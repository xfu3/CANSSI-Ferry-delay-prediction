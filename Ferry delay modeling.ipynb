{
 "cells": [
  {
   "cell_type": "code",
   "execution_count": 138,
   "metadata": {},
   "outputs": [],
   "source": [
    "import pandas as pd\n",
    "import numpy as np\n",
    "import matplotlib\n",
    "import matplotlib.pyplot as plt\n",
    "from matplotlib.dates import DateFormatter\n",
    "from matplotlib import dates\n",
    "import seaborn as sns\n",
    "from scipy import stats\n",
    "import time\n",
    "import catboost\n",
    "import catboost.datasets\n",
    "from catboost import CatBoostClassifier\n",
    "from xgboost import XGBClassifier\n",
    "import xgboost as xgb\n",
    "import lightgbm as lgb\n",
    "from sklearn.base import BaseEstimator, TransformerMixin\n",
    "from sklearn.model_selection import KFold\n",
    "from sklearn.base import BaseEstimator, TransformerMixin\n",
    "from sklearn.model_selection import KFold\n",
    "from sklearn.linear_model import LogisticRegression\n",
    "from sklearn.model_selection import cross_validate,cross_val_score\n",
    "from sklearn.ensemble import RandomForestClassifier\n",
    "from sklearn.model_selection import GridSearchCV\n",
    "import warnings\n",
    "import holidays\n",
    "import calendar\n",
    "warnings.filterwarnings('ignore')"
   ]
  },
  {
   "cell_type": "markdown",
   "metadata": {},
   "source": [
    "# Functions"
   ]
  },
  {
   "cell_type": "code",
   "execution_count": 139,
   "metadata": {},
   "outputs": [],
   "source": [
    "## function of getting the optimized paramters and score\n",
    "def hypertuning_rscv(est, p_distr, nbr_iter,X,y):\n",
    "    rdmsearch = RandomizedSearchCV(est, param_distributions=p_distr,\n",
    "                                  n_jobs=-1, n_iter=nbr_iter, cv=3)\n",
    "    \n",
    "    #CV = Cross-Validation (here using Stratified KFold CV)\n",
    "    rdmsearch.fit(X,y)\n",
    "    ht_params = rdmsearch.best_params_\n",
    "    ht_score = rdmsearch.best_score_\n",
    "    return ht_params, ht_score"
   ]
  },
  {
   "cell_type": "code",
   "execution_count": null,
   "metadata": {},
   "outputs": [],
   "source": [
    "class ModelOptimizer:\n",
    "    best_score = None\n",
    "    opt = None\n",
    "    \n",
    "    def __init__(self, model, X_train, y_train, categorical_columns_indices=None, n_fold=3, seed=2405, early_stopping_rounds=30, is_stratified=True, is_shuffle=True):\n",
    "        self.model = model\n",
    "        self.X_train = X_train\n",
    "        self.y_train = y_train\n",
    "        self.categorical_columns_indices = categorical_columns_indices\n",
    "        self.n_fold = n_fold\n",
    "        self.seed = seed\n",
    "        self.early_stopping_rounds = early_stopping_rounds\n",
    "        self.is_stratified = is_stratified\n",
    "        self.is_shuffle = is_shuffle\n",
    "        \n",
    "        \n",
    "    def update_model(self, **kwargs):\n",
    "        for k, v in kwargs.items():\n",
    "            setattr(self.model, k, v)\n",
    "            \n",
    "    def evaluate_model(self):\n",
    "        pass\n",
    "    \n",
    "    def optimize(self, param_space, max_evals=10, n_random_starts=2):\n",
    "        start_time = time.time()\n",
    "        \n",
    "        @use_named_args(param_space)\n",
    "        def _minimize(**params):\n",
    "            self.model.set_params(**params)\n",
    "            return self.evaluate_model()\n",
    "        \n",
    "        opt = gp_minimize(_minimize, param_space, n_calls=max_evals, n_random_starts=n_random_starts, random_state=2405, n_jobs=-1)\n",
    "        best_values = opt.x\n",
    "        optimal_values = dict(zip([param.name for param in param_space], best_values))\n",
    "        best_score = opt.fun\n",
    "        self.best_score = best_score\n",
    "        self.opt = opt\n",
    "        \n",
    "        print('optimal_parameters: {}\\noptimal score: {}\\noptimization time: {}'.format(optimal_values, best_score, time.time() - start_time))\n",
    "        print('updating model with optimal values')\n",
    "        self.update_model(**optimal_values)\n",
    "        plot_convergence(opt)\n",
    "        return optimal_values\n",
    "\n",
    "class XgbOptimizer(ModelOptimizer):\n",
    "    def evaluate_model(self):\n",
    "        scores = xgboost.cv(self.model.get_xgb_params(), \n",
    "                    xgboost.DMatrix(self.X_train, label=self.y_train),\n",
    "                    num_boost_round=self.model.n_estimators, \n",
    "                    metrics='auc', \n",
    "                    nfold=self.n_fold, \n",
    "                    stratified=self.is_stratified,\n",
    "                    shuffle=self.is_shuffle,\n",
    "                    seed=self.seed,\n",
    "                    early_stopping_rounds=self.early_stopping_rounds)\n",
    "        self.scores = scores\n",
    "        test_scores = scores.iloc[:, 2]\n",
    "        best_metric = test_scores.max()\n",
    "        return 1 - best_metric\n",
    "    \n",
    "class CatboostOptimizer(ModelOptimizer):\n",
    "    def evaluate_model(self):\n",
    "        validation_scores = catboost.cv(\n",
    "        catboost.Pool(self.X_train, \n",
    "                      self.y_train, \n",
    "                      cat_features=self.categorical_columns_indices),\n",
    "        self.model.get_params(), \n",
    "        nfold=self.n_fold,\n",
    "        stratified=self.is_stratified,\n",
    "        seed=self.seed,\n",
    "        early_stopping_rounds=self.early_stopping_rounds,\n",
    "        shuffle=self.is_shuffle,\n",
    "        plot=False)\n",
    "        self.scores = validation_scores\n",
    "        test_scores = validation_scores.iloc[:, 2]\n",
    "        best_metric = test_scores.max()\n",
    "        return 1 - best_metric\n",
    "    \n",
    "class LightGBMOptimizer(ModelOptimizer):\n",
    "    def evaluate_model(self):\n",
    "        lgb_dataset = lgb.Dataset(self.X_train, \n",
    "                                  self.y_train, \n",
    "                                  self.categorical_columns_indices)\n",
    "        eval_hist = lgb.cv(self.model.get_params(), \n",
    "                           lgb_dataset,\n",
    "                           self.model.n_estimators, \n",
    "                           nfold=self.n_fold,\n",
    "                           seed=self.seed, \n",
    "                           stratified=self.is_stratified, \n",
    "                           shuffle=self.is_shuffle,\n",
    "                           early_stopping_rounds=self.early_stopping_rounds, \n",
    "                           metrics='auc')\n",
    "        self.scores = eval_hist\n",
    "        test_scores = eval_hist[list(eval_hist.keys())[0]]\n",
    "        best_metric = max(test_scores)\n",
    "        return 1 - best_metric"
   ]
  },
  {
   "cell_type": "code",
   "execution_count": 140,
   "metadata": {},
   "outputs": [],
   "source": [
    "train = pd.read_csv(\"traffic_clean2.csv\")\n",
    "train1 = pd.read_csv(\"train1.csv\")\n",
    "test = pd.read_csv(\"test_clean2.csv\")"
   ]
  },
  {
   "cell_type": "markdown",
   "metadata": {},
   "source": [
    "# Secondary feature preprocessing "
   ]
  },
  {
   "cell_type": "markdown",
   "metadata": {},
   "source": [
    "## Reduce the Vessel.name categories that are not present in the test set"
   ]
  },
  {
   "cell_type": "code",
   "execution_count": 141,
   "metadata": {},
   "outputs": [],
   "source": [
    "vessel_redun = [i for i in np.unique(train1[\"Vessel.Name\"]) if i not in np.unique(test[\"Vessel.Name\"])]\n",
    "train1 = train1.loc[~train1[\"Vessel.Name\"].isin(vessel_redun),:]"
   ]
  },
  {
   "cell_type": "markdown",
   "metadata": {},
   "source": [
    "## Categorize the traffic lags from 0 to 5 to reduce noises."
   ]
  },
  {
   "cell_type": "code",
   "execution_count": 142,
   "metadata": {},
   "outputs": [],
   "source": [
    "trai = train1[\"Scheduled.Departure\"].apply(lambda x: pd.to_datetime(x).strftime(\"%H:%M\"))\n",
    "tes = test[\"Scheduled.Departure\"].apply(lambda x: pd.to_datetime(x).strftime(\"%H:%M\"))\n",
    "vessel_sche = [i for i in np.unique(trai) if i not in np.unique(tes)]\n",
    "train1 = train1.loc[~train1[\"Scheduled.Departure\"].isin(vessel_sche),:]\n",
    "\n",
    "train1.reset_index(drop = True,inplace = True)\n",
    "\n",
    "## train cut\n",
    "train1[\"cut1\"] = pd.cut(train.lag1 , [0,2,3,4,5], right=True)\n",
    "train1[\"cut2\"] = pd.cut(train.lag2 , [0,2,3,4,5], right=True)\n",
    "train1[\"cut3\"] = pd.cut(train.lag3 , [0,2,3,4,5], right=True)\n",
    "train1[\"cut4\"] = pd.cut(train.lag4 , [0,2,3,4,5], right=True)\n",
    "\n",
    "## test cut\n",
    "test[\"cut1\"] = pd.cut(test.lag1 , [0,2,3,4,5], right=True)\n",
    "test[\"cut2\"] = pd.cut(test.lag2 , [0,2,3,4,5], right=True)\n",
    "test[\"cut3\"] = pd.cut(test.lag3 , [0,2,3,4,5], right=True)\n",
    "test[\"cut4\"] = pd.cut(test.lag4 , [0,2,3,4,5], right=True)"
   ]
  },
  {
   "cell_type": "code",
   "execution_count": 143,
   "metadata": {},
   "outputs": [
    {
     "data": {
      "text/plain": [
       "Queen of Capilano             6504\n",
       "Queen of Surrey               5634\n",
       "Queen of Oak Bay              3433\n",
       "Skeena Queen                  3293\n",
       "Coastal Celebration           2863\n",
       "Coastal Inspiration           2813\n",
       "Queen of Coquitlam            2702\n",
       "Spirit of Vancouver Island    2658\n",
       "Queen of Alberni              2547\n",
       "Coastal Renaissance           2499\n",
       "Queen of Cowichan             2317\n",
       "Queen of New Westminster      1987\n",
       "Queen of Cumberland           1739\n",
       "Mayne Queen                   1033\n",
       "Bowen Queen                    261\n",
       "Salish Eagle                   241\n",
       "Salish Raven                   192\n",
       "Name: Vessel.Name, dtype: int64"
      ]
     },
     "execution_count": 143,
     "metadata": {},
     "output_type": "execute_result"
    }
   ],
   "source": [
    "train1[\"Vessel.Name\"].value_counts()"
   ]
  },
  {
   "cell_type": "markdown",
   "metadata": {},
   "source": [
    "## Combine the Vessel categories with similar delay frequencies"
   ]
  },
  {
   "cell_type": "code",
   "execution_count": 190,
   "metadata": {},
   "outputs": [],
   "source": [
    "## Visualize the delay frequency by category\n",
    "train1[[\"Vessel.Name\",\"Delay.Indicator\"]].groupby(\"Vessel.Name\").mean().sort_values(by = 'Delay.Indicator')\n",
    "\n",
    "## combine the Vessel categories with similar delay frequencies\n",
    "train1.loc[train1[\"Vessel.Name\"].isin([\"Skeena Queen\",\"Mayne Queen\",'Queen of Alberni']),\"Vessel\"] = \"name1\"\n",
    "train1.loc[train1[\"Vessel.Name\"].isin([\"Coastal Renaissance\",\"Queen of New Westminster\",\"Bowen Queen\",\"Coastal Inspiration\",\"Queen of Cumberland\",\"Coastal Celebration\"]),\"Vessel\"] = \"name2\"\n",
    "train1.loc[train1[\"Vessel.Name\"].isin(['Queen of Coquitlam',\"Spirit of Vancouver Island\",\"Queen of Cowichan\",\"Queen of Capilano\"]),\"Vessel\"] = \"name3\"\n",
    "train1.loc[train1[\"Vessel.Name\"].isin([\"Queen of Oak Bay\",\"Salish Raven\",\"Queen of Surrey\",\"Salish Eagle\"]),\"Vessel\"] = \"name4\"\n",
    "\n",
    "test.loc[train1[\"Vessel.Name\"].isin([\"Skeena Queen\",\"Mayne Queen\",'Queen of Alberni']),\"Vessel\"] = \"name1\"\n",
    "test.loc[train1[\"Vessel.Name\"].isin([\"Coastal Renaissance\",\"Queen of New Westminster\",\"Bowen Queen\",\"Coastal Inspiration\",\"Queen of Cumberland\",\"Coastal Celebration\"]),\"Vessel\"] = \"name2\"\n",
    "test.loc[train1[\"Vessel.Name\"].isin(['Queen of Coquitlam',\"Spirit of Vancouver Island\",\"Queen of Cowichan\",\"Queen of Capilano\"]),\"Vessel\"] = \"name3\"\n",
    "test.loc[train1[\"Vessel.Name\"].isin([\"Queen of Oak Bay\",\"Salish Raven\",\"Queen of Surrey\",\"Salish Eagle\"]),\"Vessel\"] = \"name4\""
   ]
  },
  {
   "cell_type": "markdown",
   "metadata": {},
   "source": [
    "## Extract the feature Round Hour"
   ]
  },
  {
   "cell_type": "code",
   "execution_count": 147,
   "metadata": {},
   "outputs": [],
   "source": [
    "## Extract the feature Round Hour\n",
    "train1.drop(\"Unnamed: 0\",axis=1,inplace =True)\n",
    "train1[\"Date_time\"] = pd.to_datetime(train1[\"Date_time\"])\n",
    "test[\"Date_time\"] = pd.to_datetime(test[\"Date_time\"])\n",
    "\n",
    "train1[\"Round_time\"] = train1[\"Date_time\"].dt.round(\"H\")\n",
    "train1[\"Round_Hour\"] = train1[\"Round_time\"].apply(lambda x: x.strftime(\"%H\"))\n",
    "\n",
    "test[\"Round_time\"] = test[\"Date_time\"].dt.round(\"H\")\n",
    "test[\"Round_Hour\"] = test[\"Round_time\"].apply(lambda x: x.strftime(\"%H\"))"
   ]
  },
  {
   "cell_type": "markdown",
   "metadata": {},
   "source": [
    "## Feature extraction"
   ]
  },
  {
   "cell_type": "code",
   "execution_count": 191,
   "metadata": {},
   "outputs": [],
   "source": [
    "X2 = train1[[\"Round_Hour\",\"Month\",\"Day\",\n",
    "       'Vessel',\"Day.of.Month\",\"Trip\",\"holidays_indicator\",\"lag3\",\"van_tem_lag2\",\"weekend.Indicator\"]]\n",
    "X2_enc = pd.get_dummies(X2,prefix=[\"Round_Hour\",\"Vessel\",\"Trip\"])\n",
    "\n",
    "y = train1[\"Delay.Indicator\"]\n",
    "\n",
    "X_test2 = test[[\"Round_Hour\",\"Month\",\"Day\",\n",
    "       'Vessel',\"Day.of.Month\",\"Trip\",\"holidays_indicator\",\"lag3\",\"van_tem_lag2\",\"weekend.Indicator\"]]\n",
    "\n",
    "X2_test_enc = pd.get_dummies(X_test2,prefix=[\"Round_Hour\",\"Vessel\",\"Trip\"])"
   ]
  },
  {
   "cell_type": "markdown",
   "metadata": {},
   "source": [
    "# Logistic Regression"
   ]
  },
  {
   "cell_type": "code",
   "execution_count": 154,
   "metadata": {},
   "outputs": [],
   "source": [
    "logreg = LogisticRegression(class_weight =\"balanced\")\n",
    "cv_results = cross_validate(logreg, X2_enc, y, cv=10,return_train_score =True)\n",
    "crossval_scores_log = cross_val_score(logreg, X2_enc, y, scoring='roc_auc', cv=10)"
   ]
  },
  {
   "cell_type": "code",
   "execution_count": 155,
   "metadata": {},
   "outputs": [
    {
     "data": {
      "text/plain": [
       "0.6349779115224442"
      ]
     },
     "execution_count": 155,
     "metadata": {},
     "output_type": "execute_result"
    }
   ],
   "source": [
    "cv_results[\"test_score\"].mean()"
   ]
  },
  {
   "cell_type": "code",
   "execution_count": 156,
   "metadata": {},
   "outputs": [
    {
     "data": {
      "text/plain": [
       "0.6491035824053807"
      ]
     },
     "execution_count": 156,
     "metadata": {},
     "output_type": "execute_result"
    }
   ],
   "source": [
    "cv_results[\"train_score\"].mean()"
   ]
  },
  {
   "cell_type": "code",
   "execution_count": 55,
   "metadata": {},
   "outputs": [],
   "source": [
    "# feed new data to the model\n",
    "logreg.fit(X2_enc, y)\n",
    "# make a prediction\n",
    "ynew = logreg.predict_proba(X2_test_enc)"
   ]
  },
  {
   "cell_type": "code",
   "execution_count": 56,
   "metadata": {},
   "outputs": [
    {
     "data": {
      "text/html": [
       "<div>\n",
       "<style scoped>\n",
       "    .dataframe tbody tr th:only-of-type {\n",
       "        vertical-align: middle;\n",
       "    }\n",
       "\n",
       "    .dataframe tbody tr th {\n",
       "        vertical-align: top;\n",
       "    }\n",
       "\n",
       "    .dataframe thead th {\n",
       "        text-align: right;\n",
       "    }\n",
       "</style>\n",
       "<table border=\"1\" class=\"dataframe\">\n",
       "  <thead>\n",
       "    <tr style=\"text-align: right;\">\n",
       "      <th></th>\n",
       "      <th>Month</th>\n",
       "      <th>Day</th>\n",
       "      <th>Day.of.Month</th>\n",
       "      <th>holidays_indicator</th>\n",
       "      <th>van_tem_lag2</th>\n",
       "      <th>weekend.Indicator</th>\n",
       "      <th>Round_Hour_00</th>\n",
       "      <th>Round_Hour_05</th>\n",
       "      <th>Round_Hour_06</th>\n",
       "      <th>Round_Hour_07</th>\n",
       "      <th>...</th>\n",
       "      <th>Trip_Horseshoe Bay to Departure Bay</th>\n",
       "      <th>Trip_Horseshoe Bay to Langdale</th>\n",
       "      <th>Trip_Horseshoe Bay to Snug Cove (Bowen Is.)</th>\n",
       "      <th>Trip_Langdale to Horseshoe Bay</th>\n",
       "      <th>Trip_Swartz Bay to Fulford Harbour (Saltspring Is.)</th>\n",
       "      <th>Trip_Swartz Bay to Southern Gulf Islands</th>\n",
       "      <th>Trip_Swartz Bay to Tsawwassen</th>\n",
       "      <th>Trip_Tsawwassen to Duke Point</th>\n",
       "      <th>Trip_Tsawwassen to Southern Gulf Islands</th>\n",
       "      <th>Trip_Tsawwassen to Swartz Bay</th>\n",
       "    </tr>\n",
       "  </thead>\n",
       "  <tbody>\n",
       "    <tr>\n",
       "      <th>0</th>\n",
       "      <td>11</td>\n",
       "      <td>0</td>\n",
       "      <td>27</td>\n",
       "      <td>False</td>\n",
       "      <td>6.0</td>\n",
       "      <td>False</td>\n",
       "      <td>0</td>\n",
       "      <td>1</td>\n",
       "      <td>0</td>\n",
       "      <td>0</td>\n",
       "      <td>...</td>\n",
       "      <td>0</td>\n",
       "      <td>0</td>\n",
       "      <td>0</td>\n",
       "      <td>0</td>\n",
       "      <td>0</td>\n",
       "      <td>0</td>\n",
       "      <td>0</td>\n",
       "      <td>0</td>\n",
       "      <td>0</td>\n",
       "      <td>0</td>\n",
       "    </tr>\n",
       "    <tr>\n",
       "      <th>1</th>\n",
       "      <td>11</td>\n",
       "      <td>0</td>\n",
       "      <td>27</td>\n",
       "      <td>False</td>\n",
       "      <td>5.0</td>\n",
       "      <td>False</td>\n",
       "      <td>0</td>\n",
       "      <td>0</td>\n",
       "      <td>1</td>\n",
       "      <td>0</td>\n",
       "      <td>...</td>\n",
       "      <td>0</td>\n",
       "      <td>0</td>\n",
       "      <td>0</td>\n",
       "      <td>0</td>\n",
       "      <td>0</td>\n",
       "      <td>0</td>\n",
       "      <td>0</td>\n",
       "      <td>0</td>\n",
       "      <td>0</td>\n",
       "      <td>0</td>\n",
       "    </tr>\n",
       "    <tr>\n",
       "      <th>2</th>\n",
       "      <td>11</td>\n",
       "      <td>0</td>\n",
       "      <td>27</td>\n",
       "      <td>False</td>\n",
       "      <td>5.0</td>\n",
       "      <td>False</td>\n",
       "      <td>0</td>\n",
       "      <td>0</td>\n",
       "      <td>1</td>\n",
       "      <td>0</td>\n",
       "      <td>...</td>\n",
       "      <td>0</td>\n",
       "      <td>0</td>\n",
       "      <td>1</td>\n",
       "      <td>0</td>\n",
       "      <td>0</td>\n",
       "      <td>0</td>\n",
       "      <td>0</td>\n",
       "      <td>0</td>\n",
       "      <td>0</td>\n",
       "      <td>0</td>\n",
       "    </tr>\n",
       "    <tr>\n",
       "      <th>3</th>\n",
       "      <td>11</td>\n",
       "      <td>0</td>\n",
       "      <td>27</td>\n",
       "      <td>False</td>\n",
       "      <td>5.0</td>\n",
       "      <td>False</td>\n",
       "      <td>0</td>\n",
       "      <td>0</td>\n",
       "      <td>1</td>\n",
       "      <td>0</td>\n",
       "      <td>...</td>\n",
       "      <td>1</td>\n",
       "      <td>0</td>\n",
       "      <td>0</td>\n",
       "      <td>0</td>\n",
       "      <td>0</td>\n",
       "      <td>0</td>\n",
       "      <td>0</td>\n",
       "      <td>0</td>\n",
       "      <td>0</td>\n",
       "      <td>0</td>\n",
       "    </tr>\n",
       "    <tr>\n",
       "      <th>4</th>\n",
       "      <td>11</td>\n",
       "      <td>0</td>\n",
       "      <td>27</td>\n",
       "      <td>False</td>\n",
       "      <td>5.0</td>\n",
       "      <td>False</td>\n",
       "      <td>0</td>\n",
       "      <td>0</td>\n",
       "      <td>1</td>\n",
       "      <td>0</td>\n",
       "      <td>...</td>\n",
       "      <td>0</td>\n",
       "      <td>0</td>\n",
       "      <td>0</td>\n",
       "      <td>1</td>\n",
       "      <td>0</td>\n",
       "      <td>0</td>\n",
       "      <td>0</td>\n",
       "      <td>0</td>\n",
       "      <td>0</td>\n",
       "      <td>0</td>\n",
       "    </tr>\n",
       "    <tr>\n",
       "      <th>...</th>\n",
       "      <td>...</td>\n",
       "      <td>...</td>\n",
       "      <td>...</td>\n",
       "      <td>...</td>\n",
       "      <td>...</td>\n",
       "      <td>...</td>\n",
       "      <td>...</td>\n",
       "      <td>...</td>\n",
       "      <td>...</td>\n",
       "      <td>...</td>\n",
       "      <td>...</td>\n",
       "      <td>...</td>\n",
       "      <td>...</td>\n",
       "      <td>...</td>\n",
       "      <td>...</td>\n",
       "      <td>...</td>\n",
       "      <td>...</td>\n",
       "      <td>...</td>\n",
       "      <td>...</td>\n",
       "      <td>...</td>\n",
       "      <td>...</td>\n",
       "    </tr>\n",
       "    <tr>\n",
       "      <th>12371</th>\n",
       "      <td>3</td>\n",
       "      <td>4</td>\n",
       "      <td>30</td>\n",
       "      <td>True</td>\n",
       "      <td>7.6</td>\n",
       "      <td>False</td>\n",
       "      <td>0</td>\n",
       "      <td>0</td>\n",
       "      <td>0</td>\n",
       "      <td>0</td>\n",
       "      <td>...</td>\n",
       "      <td>0</td>\n",
       "      <td>0</td>\n",
       "      <td>1</td>\n",
       "      <td>0</td>\n",
       "      <td>0</td>\n",
       "      <td>0</td>\n",
       "      <td>0</td>\n",
       "      <td>0</td>\n",
       "      <td>0</td>\n",
       "      <td>0</td>\n",
       "    </tr>\n",
       "    <tr>\n",
       "      <th>12372</th>\n",
       "      <td>3</td>\n",
       "      <td>4</td>\n",
       "      <td>30</td>\n",
       "      <td>True</td>\n",
       "      <td>7.6</td>\n",
       "      <td>False</td>\n",
       "      <td>0</td>\n",
       "      <td>0</td>\n",
       "      <td>0</td>\n",
       "      <td>0</td>\n",
       "      <td>...</td>\n",
       "      <td>1</td>\n",
       "      <td>0</td>\n",
       "      <td>0</td>\n",
       "      <td>0</td>\n",
       "      <td>0</td>\n",
       "      <td>0</td>\n",
       "      <td>0</td>\n",
       "      <td>0</td>\n",
       "      <td>0</td>\n",
       "      <td>0</td>\n",
       "    </tr>\n",
       "    <tr>\n",
       "      <th>12373</th>\n",
       "      <td>3</td>\n",
       "      <td>4</td>\n",
       "      <td>30</td>\n",
       "      <td>True</td>\n",
       "      <td>7.2</td>\n",
       "      <td>False</td>\n",
       "      <td>0</td>\n",
       "      <td>0</td>\n",
       "      <td>0</td>\n",
       "      <td>0</td>\n",
       "      <td>...</td>\n",
       "      <td>0</td>\n",
       "      <td>0</td>\n",
       "      <td>0</td>\n",
       "      <td>0</td>\n",
       "      <td>0</td>\n",
       "      <td>0</td>\n",
       "      <td>0</td>\n",
       "      <td>1</td>\n",
       "      <td>0</td>\n",
       "      <td>0</td>\n",
       "    </tr>\n",
       "    <tr>\n",
       "      <th>12374</th>\n",
       "      <td>3</td>\n",
       "      <td>4</td>\n",
       "      <td>30</td>\n",
       "      <td>True</td>\n",
       "      <td>7.2</td>\n",
       "      <td>False</td>\n",
       "      <td>0</td>\n",
       "      <td>0</td>\n",
       "      <td>0</td>\n",
       "      <td>0</td>\n",
       "      <td>...</td>\n",
       "      <td>0</td>\n",
       "      <td>0</td>\n",
       "      <td>0</td>\n",
       "      <td>0</td>\n",
       "      <td>0</td>\n",
       "      <td>0</td>\n",
       "      <td>0</td>\n",
       "      <td>0</td>\n",
       "      <td>0</td>\n",
       "      <td>0</td>\n",
       "    </tr>\n",
       "    <tr>\n",
       "      <th>12375</th>\n",
       "      <td>3</td>\n",
       "      <td>4</td>\n",
       "      <td>30</td>\n",
       "      <td>True</td>\n",
       "      <td>7.2</td>\n",
       "      <td>False</td>\n",
       "      <td>0</td>\n",
       "      <td>0</td>\n",
       "      <td>0</td>\n",
       "      <td>0</td>\n",
       "      <td>...</td>\n",
       "      <td>0</td>\n",
       "      <td>1</td>\n",
       "      <td>0</td>\n",
       "      <td>0</td>\n",
       "      <td>0</td>\n",
       "      <td>0</td>\n",
       "      <td>0</td>\n",
       "      <td>0</td>\n",
       "      <td>0</td>\n",
       "      <td>0</td>\n",
       "    </tr>\n",
       "  </tbody>\n",
       "</table>\n",
       "<p>12376 rows × 55 columns</p>\n",
       "</div>"
      ],
      "text/plain": [
       "       Month  Day  Day.of.Month  holidays_indicator  van_tem_lag2  \\\n",
       "0         11    0            27               False           6.0   \n",
       "1         11    0            27               False           5.0   \n",
       "2         11    0            27               False           5.0   \n",
       "3         11    0            27               False           5.0   \n",
       "4         11    0            27               False           5.0   \n",
       "...      ...  ...           ...                 ...           ...   \n",
       "12371      3    4            30                True           7.6   \n",
       "12372      3    4            30                True           7.6   \n",
       "12373      3    4            30                True           7.2   \n",
       "12374      3    4            30                True           7.2   \n",
       "12375      3    4            30                True           7.2   \n",
       "\n",
       "       weekend.Indicator  Round_Hour_00  Round_Hour_05  Round_Hour_06  \\\n",
       "0                  False              0              1              0   \n",
       "1                  False              0              0              1   \n",
       "2                  False              0              0              1   \n",
       "3                  False              0              0              1   \n",
       "4                  False              0              0              1   \n",
       "...                  ...            ...            ...            ...   \n",
       "12371              False              0              0              0   \n",
       "12372              False              0              0              0   \n",
       "12373              False              0              0              0   \n",
       "12374              False              0              0              0   \n",
       "12375              False              0              0              0   \n",
       "\n",
       "       Round_Hour_07  ...  Trip_Horseshoe Bay to Departure Bay  \\\n",
       "0                  0  ...                                    0   \n",
       "1                  0  ...                                    0   \n",
       "2                  0  ...                                    0   \n",
       "3                  0  ...                                    1   \n",
       "4                  0  ...                                    0   \n",
       "...              ...  ...                                  ...   \n",
       "12371              0  ...                                    0   \n",
       "12372              0  ...                                    1   \n",
       "12373              0  ...                                    0   \n",
       "12374              0  ...                                    0   \n",
       "12375              0  ...                                    0   \n",
       "\n",
       "       Trip_Horseshoe Bay to Langdale  \\\n",
       "0                                   0   \n",
       "1                                   0   \n",
       "2                                   0   \n",
       "3                                   0   \n",
       "4                                   0   \n",
       "...                               ...   \n",
       "12371                               0   \n",
       "12372                               0   \n",
       "12373                               0   \n",
       "12374                               0   \n",
       "12375                               1   \n",
       "\n",
       "       Trip_Horseshoe Bay to Snug Cove (Bowen Is.)  \\\n",
       "0                                                0   \n",
       "1                                                0   \n",
       "2                                                1   \n",
       "3                                                0   \n",
       "4                                                0   \n",
       "...                                            ...   \n",
       "12371                                            1   \n",
       "12372                                            0   \n",
       "12373                                            0   \n",
       "12374                                            0   \n",
       "12375                                            0   \n",
       "\n",
       "       Trip_Langdale to Horseshoe Bay  \\\n",
       "0                                   0   \n",
       "1                                   0   \n",
       "2                                   0   \n",
       "3                                   0   \n",
       "4                                   1   \n",
       "...                               ...   \n",
       "12371                               0   \n",
       "12372                               0   \n",
       "12373                               0   \n",
       "12374                               0   \n",
       "12375                               0   \n",
       "\n",
       "       Trip_Swartz Bay to Fulford Harbour (Saltspring Is.)  \\\n",
       "0                                                      0     \n",
       "1                                                      0     \n",
       "2                                                      0     \n",
       "3                                                      0     \n",
       "4                                                      0     \n",
       "...                                                  ...     \n",
       "12371                                                  0     \n",
       "12372                                                  0     \n",
       "12373                                                  0     \n",
       "12374                                                  0     \n",
       "12375                                                  0     \n",
       "\n",
       "       Trip_Swartz Bay to Southern Gulf Islands  \\\n",
       "0                                             0   \n",
       "1                                             0   \n",
       "2                                             0   \n",
       "3                                             0   \n",
       "4                                             0   \n",
       "...                                         ...   \n",
       "12371                                         0   \n",
       "12372                                         0   \n",
       "12373                                         0   \n",
       "12374                                         0   \n",
       "12375                                         0   \n",
       "\n",
       "       Trip_Swartz Bay to Tsawwassen  Trip_Tsawwassen to Duke Point  \\\n",
       "0                                  0                              0   \n",
       "1                                  0                              0   \n",
       "2                                  0                              0   \n",
       "3                                  0                              0   \n",
       "4                                  0                              0   \n",
       "...                              ...                            ...   \n",
       "12371                              0                              0   \n",
       "12372                              0                              0   \n",
       "12373                              0                              1   \n",
       "12374                              0                              0   \n",
       "12375                              0                              0   \n",
       "\n",
       "       Trip_Tsawwassen to Southern Gulf Islands  Trip_Tsawwassen to Swartz Bay  \n",
       "0                                             0                              0  \n",
       "1                                             0                              0  \n",
       "2                                             0                              0  \n",
       "3                                             0                              0  \n",
       "4                                             0                              0  \n",
       "...                                         ...                            ...  \n",
       "12371                                         0                              0  \n",
       "12372                                         0                              0  \n",
       "12373                                         0                              0  \n",
       "12374                                         0                              0  \n",
       "12375                                         0                              0  \n",
       "\n",
       "[12376 rows x 55 columns]"
      ]
     },
     "execution_count": 56,
     "metadata": {},
     "output_type": "execute_result"
    }
   ],
   "source": [
    "X2_test_enc"
   ]
  },
  {
   "cell_type": "code",
   "execution_count": 57,
   "metadata": {},
   "outputs": [
    {
     "data": {
      "text/plain": [
       "array([0.20166592, 0.05440241, 0.05893955, ..., 0.37421961, 0.26746578,\n",
       "       0.63784809])"
      ]
     },
     "execution_count": 57,
     "metadata": {},
     "output_type": "execute_result"
    }
   ],
   "source": [
    "ynew[:,1]"
   ]
  },
  {
   "cell_type": "code",
   "execution_count": 58,
   "metadata": {},
   "outputs": [],
   "source": [
    "test[\"ID\"] = test.index +1\n",
    "ctbsubmission = pd.concat([pd.DataFrame(ynew[:,1]),test['ID']],axis=1)\n",
    "ctbsubmission.columns = ['Delay.Indicator','ID']"
   ]
  },
  {
   "cell_type": "code",
   "execution_count": 50,
   "metadata": {},
   "outputs": [
    {
     "data": {
      "text/plain": [
       "Vessel.Name                             Queen of Alberni\n",
       "Scheduled.Departure                                05:15\n",
       "Trip                            Tsawwassen to Duke Point\n",
       "Day                                                    6\n",
       "Month                                                  8\n",
       "Day.of.Month                                          28\n",
       "Year                                                2016\n",
       "Full.Date                                     2016-08-28\n",
       "Delay.Indicator                                        0\n",
       "Vessel.Name_Kfold_Target_Enc                   0.0875576\n",
       "Trip_Kfold_Target_Enc                           0.112426\n",
       "weekend.Indicator                                   True\n",
       "Date_time                            2016-08-28 05:15:00\n",
       "holidays_indicator                                 False\n",
       "lag1                                                   1\n",
       "lag2                                                   1\n",
       "lag3                                                   1\n",
       "lag4                                                   1\n",
       "Temperature                                         15.6\n",
       "Dew.Point                                           12.3\n",
       "Relative.Humidity                                     81\n",
       "van_tem_lag1                                        15.4\n",
       "van_tem_lag2                                        15.7\n",
       "van_dew_lag1                                        12.1\n",
       "van_dew_lag2                                        12.2\n",
       "van_hum_lag1                                          81\n",
       "van_hum_lag2                                          79\n",
       "InterpolateQuadratic_Tem                            13.2\n",
       "InterpolateCubic_Dew                                11.8\n",
       "InterpolateCubic_Humi                                 91\n",
       "InterpolateCubic_Press                            101.71\n",
       "vic_tem_lag1                                     13.0082\n",
       "vic_tem_lag2                                     12.9581\n",
       "vic_dew_lag1                                      11.947\n",
       "vic_dew_lag2                                     11.9644\n",
       "vic_hum_lag1                                      92.977\n",
       "vic_hum_lag2                                      93.431\n",
       "vic_press_lag1                                   101.662\n",
       "vic_press_lag2                                   101.623\n",
       "Round_time                           2016-08-28 05:00:00\n",
       "Round_Hour                                            05\n",
       "Name: 0, dtype: object"
      ]
     },
     "execution_count": 50,
     "metadata": {},
     "output_type": "execute_result"
    }
   ],
   "source": [
    "train1.iloc[0,:]"
   ]
  },
  {
   "cell_type": "code",
   "execution_count": 59,
   "metadata": {},
   "outputs": [
    {
     "data": {
      "text/html": [
       "<div>\n",
       "<style scoped>\n",
       "    .dataframe tbody tr th:only-of-type {\n",
       "        vertical-align: middle;\n",
       "    }\n",
       "\n",
       "    .dataframe tbody tr th {\n",
       "        vertical-align: top;\n",
       "    }\n",
       "\n",
       "    .dataframe thead th {\n",
       "        text-align: right;\n",
       "    }\n",
       "</style>\n",
       "<table border=\"1\" class=\"dataframe\">\n",
       "  <thead>\n",
       "    <tr style=\"text-align: right;\">\n",
       "      <th></th>\n",
       "      <th>Delay.Indicator</th>\n",
       "      <th>ID</th>\n",
       "    </tr>\n",
       "  </thead>\n",
       "  <tbody>\n",
       "    <tr>\n",
       "      <th>0</th>\n",
       "      <td>0.201666</td>\n",
       "      <td>1</td>\n",
       "    </tr>\n",
       "    <tr>\n",
       "      <th>1</th>\n",
       "      <td>0.054402</td>\n",
       "      <td>2</td>\n",
       "    </tr>\n",
       "    <tr>\n",
       "      <th>2</th>\n",
       "      <td>0.058940</td>\n",
       "      <td>3</td>\n",
       "    </tr>\n",
       "    <tr>\n",
       "      <th>3</th>\n",
       "      <td>0.060338</td>\n",
       "      <td>4</td>\n",
       "    </tr>\n",
       "    <tr>\n",
       "      <th>4</th>\n",
       "      <td>0.075535</td>\n",
       "      <td>5</td>\n",
       "    </tr>\n",
       "    <tr>\n",
       "      <th>...</th>\n",
       "      <td>...</td>\n",
       "      <td>...</td>\n",
       "    </tr>\n",
       "    <tr>\n",
       "      <th>12371</th>\n",
       "      <td>0.602196</td>\n",
       "      <td>12372</td>\n",
       "    </tr>\n",
       "    <tr>\n",
       "      <th>12372</th>\n",
       "      <td>0.557607</td>\n",
       "      <td>12373</td>\n",
       "    </tr>\n",
       "    <tr>\n",
       "      <th>12373</th>\n",
       "      <td>0.374220</td>\n",
       "      <td>12374</td>\n",
       "    </tr>\n",
       "    <tr>\n",
       "      <th>12374</th>\n",
       "      <td>0.267466</td>\n",
       "      <td>12375</td>\n",
       "    </tr>\n",
       "    <tr>\n",
       "      <th>12375</th>\n",
       "      <td>0.637848</td>\n",
       "      <td>12376</td>\n",
       "    </tr>\n",
       "  </tbody>\n",
       "</table>\n",
       "<p>12376 rows × 2 columns</p>\n",
       "</div>"
      ],
      "text/plain": [
       "       Delay.Indicator     ID\n",
       "0             0.201666      1\n",
       "1             0.054402      2\n",
       "2             0.058940      3\n",
       "3             0.060338      4\n",
       "4             0.075535      5\n",
       "...                ...    ...\n",
       "12371         0.602196  12372\n",
       "12372         0.557607  12373\n",
       "12373         0.374220  12374\n",
       "12374         0.267466  12375\n",
       "12375         0.637848  12376\n",
       "\n",
       "[12376 rows x 2 columns]"
      ]
     },
     "execution_count": 59,
     "metadata": {},
     "output_type": "execute_result"
    }
   ],
   "source": [
    "ctbsubmission"
   ]
  },
  {
   "cell_type": "code",
   "execution_count": 60,
   "metadata": {},
   "outputs": [],
   "source": [
    "ctbsubmission.to_csv('log_predictions_1.csv',index=False)"
   ]
  },
  {
   "cell_type": "markdown",
   "metadata": {},
   "source": [
    "# Random Forest"
   ]
  },
  {
   "cell_type": "markdown",
   "metadata": {},
   "source": [
    "For random forest implementation, we use random search to tune hyperparameters to find the maximal 3 fold cross validation"
   ]
  },
  {
   "cell_type": "code",
   "execution_count": 20,
   "metadata": {},
   "outputs": [],
   "source": [
    "from sklearn.ensemble import RandomForestClassifier\n",
    "from sklearn.model_selection import RandomizedSearchCV\n",
    "from sklearn.model_selection import GridSearchCV\n",
    "\n",
    "param_grid = {\n",
    "    'criterion':['gini','entropy'],\n",
    "    'min_samples_split':[2,3,5,6,8,10,12],\n",
    "    'bootstrap': [True],\n",
    "    'max_depth': [i for i in range(1,6)],\n",
    "    'max_features': [i for i in range(6,12)],\n",
    "    'min_samples_leaf': [3,4,5,6,7],\n",
    "    'min_samples_split': [2,3,5,6],\n",
    "    'n_estimators': [300,500,800],\n",
    "    \"class_weight\":[\"balanced\",\"balanced_subsample\"]\n",
    "}\n",
    "nbr_iter = 200\n",
    "est = RandomForestClassifier()\n",
    "random_params, random_score = hypertuning_rscv(est, param_grid, nbr_iter,X2,y)"
   ]
  },
  {
   "cell_type": "code",
   "execution_count": 21,
   "metadata": {},
   "outputs": [
    {
     "data": {
      "text/plain": [
       "{'n_estimators': 500,\n",
       " 'min_samples_split': 3,\n",
       " 'min_samples_leaf': 4,\n",
       " 'max_features': 6,\n",
       " 'max_depth': 5,\n",
       " 'criterion': 'entropy',\n",
       " 'class_weight': 'balanced_subsample',\n",
       " 'bootstrap': True}"
      ]
     },
     "execution_count": 21,
     "metadata": {},
     "output_type": "execute_result"
    }
   ],
   "source": [
    "random_params"
   ]
  },
  {
   "cell_type": "code",
   "execution_count": 157,
   "metadata": {},
   "outputs": [],
   "source": [
    "clf = RandomForestClassifier(n_estimators = 500,\n",
    " min_samples_split = 3,\n",
    " min_samples_leaf = 4,\n",
    " max_features = 6,\n",
    " max_depth = 5,\n",
    " criterion = 'entropy',\n",
    " class_weight = \"balanced_subsample\",\n",
    " bootstrap = True,\n",
    " n_jobs=-1)"
   ]
  },
  {
   "cell_type": "code",
   "execution_count": 158,
   "metadata": {},
   "outputs": [],
   "source": [
    "crossval_scores = cross_validate(clf, X2_enc, y, cv = 10,return_train_score =True)"
   ]
  },
  {
   "cell_type": "code",
   "execution_count": 160,
   "metadata": {},
   "outputs": [
    {
     "data": {
      "text/plain": [
       "{'fit_time': array([6.62857175, 4.4141984 , 4.13211751, 4.15775824, 4.04812169,\n",
       "        4.39369369, 3.96480107, 4.36510873, 3.98481607, 4.02431536]),\n",
       " 'score_time': array([0.22401762, 0.25931978, 0.2210207 , 0.23071909, 0.22601795,\n",
       "        0.3298676 , 0.22127795, 0.22601819, 0.22501969, 0.23403502]),\n",
       " 'test_score': array([0.53979401, 0.66104869, 0.80571161, 0.69990637, 0.52879213,\n",
       "        0.4946161 , 0.50760946, 0.49449778, 0.55841723, 0.61367361]),\n",
       " 'train_score': array([0.63172407, 0.64764333, 0.60396941, 0.65261159, 0.64535428,\n",
       "        0.65164915, 0.65459748, 0.66253089, 0.65982573, 0.65568995])}"
      ]
     },
     "execution_count": 160,
     "metadata": {},
     "output_type": "execute_result"
    }
   ],
   "source": [
    "crossval_scores"
   ]
  },
  {
   "cell_type": "code",
   "execution_count": 161,
   "metadata": {},
   "outputs": [
    {
     "data": {
      "text/plain": [
       "0.6465595862968554"
      ]
     },
     "execution_count": 161,
     "metadata": {},
     "output_type": "execute_result"
    }
   ],
   "source": [
    "crossval_scores[\"train_score\"].mean()"
   ]
  },
  {
   "cell_type": "code",
   "execution_count": 162,
   "metadata": {},
   "outputs": [
    {
     "data": {
      "text/plain": [
       "0.5904066993932602"
      ]
     },
     "execution_count": 162,
     "metadata": {},
     "output_type": "execute_result"
    }
   ],
   "source": [
    "crossval_scores[\"test_score\"].mean()"
   ]
  },
  {
   "cell_type": "code",
   "execution_count": 41,
   "metadata": {},
   "outputs": [],
   "source": [
    "clf.fit(X2_enc, y)\n",
    "\n",
    "# make a prediction\n",
    "ynew = clf.predict_proba(X2_test_enc)"
   ]
  },
  {
   "cell_type": "code",
   "execution_count": 43,
   "metadata": {},
   "outputs": [],
   "source": [
    "test[\"ID\"] = test.index +1"
   ]
  },
  {
   "cell_type": "code",
   "execution_count": 44,
   "metadata": {},
   "outputs": [],
   "source": [
    "ctbsubmission = pd.concat([pd.DataFrame(ynew[:,1]),test['ID']],axis=1)\n",
    "ctbsubmission.columns = ['Delay.Indicator','ID']"
   ]
  },
  {
   "cell_type": "code",
   "execution_count": 45,
   "metadata": {},
   "outputs": [],
   "source": [
    "ctbsubmission.to_csv('random_predictions_2.csv',index=False)"
   ]
  },
  {
   "cell_type": "code",
   "execution_count": 42,
   "metadata": {},
   "outputs": [
    {
     "data": {
      "text/plain": [
       "array([0.43528374, 0.31501186, 0.31061838, ..., 0.42821229, 0.37339628,\n",
       "       0.48209109])"
      ]
     },
     "execution_count": 42,
     "metadata": {},
     "output_type": "execute_result"
    }
   ],
   "source": [
    "ynew[:,1]"
   ]
  },
  {
   "cell_type": "code",
   "execution_count": 46,
   "metadata": {},
   "outputs": [
    {
     "data": {
      "text/html": [
       "<div>\n",
       "<style scoped>\n",
       "    .dataframe tbody tr th:only-of-type {\n",
       "        vertical-align: middle;\n",
       "    }\n",
       "\n",
       "    .dataframe tbody tr th {\n",
       "        vertical-align: top;\n",
       "    }\n",
       "\n",
       "    .dataframe thead th {\n",
       "        text-align: right;\n",
       "    }\n",
       "</style>\n",
       "<table border=\"1\" class=\"dataframe\">\n",
       "  <thead>\n",
       "    <tr style=\"text-align: right;\">\n",
       "      <th></th>\n",
       "      <th>Delay.Indicator</th>\n",
       "      <th>ID</th>\n",
       "    </tr>\n",
       "  </thead>\n",
       "  <tbody>\n",
       "    <tr>\n",
       "      <th>0</th>\n",
       "      <td>0.435284</td>\n",
       "      <td>1</td>\n",
       "    </tr>\n",
       "    <tr>\n",
       "      <th>1</th>\n",
       "      <td>0.315012</td>\n",
       "      <td>2</td>\n",
       "    </tr>\n",
       "    <tr>\n",
       "      <th>2</th>\n",
       "      <td>0.310618</td>\n",
       "      <td>3</td>\n",
       "    </tr>\n",
       "    <tr>\n",
       "      <th>3</th>\n",
       "      <td>0.321119</td>\n",
       "      <td>4</td>\n",
       "    </tr>\n",
       "    <tr>\n",
       "      <th>4</th>\n",
       "      <td>0.340970</td>\n",
       "      <td>5</td>\n",
       "    </tr>\n",
       "    <tr>\n",
       "      <th>...</th>\n",
       "      <td>...</td>\n",
       "      <td>...</td>\n",
       "    </tr>\n",
       "    <tr>\n",
       "      <th>12371</th>\n",
       "      <td>0.485879</td>\n",
       "      <td>12372</td>\n",
       "    </tr>\n",
       "    <tr>\n",
       "      <th>12372</th>\n",
       "      <td>0.455230</td>\n",
       "      <td>12373</td>\n",
       "    </tr>\n",
       "    <tr>\n",
       "      <th>12373</th>\n",
       "      <td>0.428212</td>\n",
       "      <td>12374</td>\n",
       "    </tr>\n",
       "    <tr>\n",
       "      <th>12374</th>\n",
       "      <td>0.373396</td>\n",
       "      <td>12375</td>\n",
       "    </tr>\n",
       "    <tr>\n",
       "      <th>12375</th>\n",
       "      <td>0.482091</td>\n",
       "      <td>12376</td>\n",
       "    </tr>\n",
       "  </tbody>\n",
       "</table>\n",
       "<p>12376 rows × 2 columns</p>\n",
       "</div>"
      ],
      "text/plain": [
       "       Delay.Indicator     ID\n",
       "0             0.435284      1\n",
       "1             0.315012      2\n",
       "2             0.310618      3\n",
       "3             0.321119      4\n",
       "4             0.340970      5\n",
       "...                ...    ...\n",
       "12371         0.485879  12372\n",
       "12372         0.455230  12373\n",
       "12373         0.428212  12374\n",
       "12374         0.373396  12375\n",
       "12375         0.482091  12376\n",
       "\n",
       "[12376 rows x 2 columns]"
      ]
     },
     "execution_count": 46,
     "metadata": {},
     "output_type": "execute_result"
    }
   ],
   "source": [
    "ctbsubmission"
   ]
  },
  {
   "cell_type": "code",
   "execution_count": 168,
   "metadata": {},
   "outputs": [
    {
     "data": {
      "text/plain": [
       "Round_Hour            category\n",
       "Month                    int32\n",
       "Day                   category\n",
       "Vessel                  object\n",
       "Day.of.Month             int32\n",
       "Trip                    object\n",
       "holidays_indicator        bool\n",
       "cut4                  category\n",
       "van_tem_lag2           float64\n",
       "weekend.Indicator         bool\n",
       "dtype: object"
      ]
     },
     "execution_count": 168,
     "metadata": {},
     "output_type": "execute_result"
    }
   ],
   "source": [
    "X2.dtypes"
   ]
  },
  {
   "cell_type": "markdown",
   "metadata": {},
   "source": [
    "# XGBOOST"
   ]
  },
  {
   "cell_type": "code",
   "execution_count": 192,
   "metadata": {},
   "outputs": [],
   "source": [
    "X2[\"Round_Hour\"] = X2[\"Round_Hour\"].astype(\"category\")\n",
    "X2[\"Day\"] = X2[\"Day\"].astype(\"category\")\n",
    "X2[\"Day.of.Month\"] = X2[\"Day.of.Month\"].astype(\"category\")\n",
    "X2[\"Month\"] = X2[\"Month\"].astype(\"category\")\n",
    "\n",
    "\n",
    "X_test2[\"Round_Hour\"] = X_test2[\"Round_Hour\"].astype(\"category\")\n",
    "X_test2[\"Day\"] = X_test2[\"Day\"].astype(\"category\")\n",
    "X_test2[\"Day.of.Month\"] = X_test2[\"Day.of.Month\"].astype(\"category\")\n",
    "X_test2[\"Month\"] = X_test2[\"Month\"].astype(\"int\")"
   ]
  },
  {
   "cell_type": "code",
   "execution_count": 193,
   "metadata": {},
   "outputs": [],
   "source": [
    "X2[\"Month\"] = X2[\"Month\"].astype(\"int\")\n",
    "X2[\"Day.of.Month\"] = X2[\"Day.of.Month\"].astype(\"int\")\n",
    "X2_encode = pd.get_dummies(X2,prefix=[\"Round_Hour\",'Vessel',\"Trip\",\"Day\"])\n",
    "\n",
    "X_test2[\"Day.of.Month\"] = X_test2[\"Day.of.Month\"].astype(\"int\")\n",
    "X_test2[\"Month\"] = X_test2[\"Month\"].astype(\"int\")\n",
    "X_test_encode = pd.get_dummies(X_test2,prefix=[\"Round_Hour\",'Vessel',\"Trip\",\"Day\"])"
   ]
  },
  {
   "cell_type": "code",
   "execution_count": 194,
   "metadata": {},
   "outputs": [],
   "source": [
    "X2_encode.rename(columns = {\"cut4_(0, 2]\":\"cut1\",\"cut4_(2, 3]\":\"cut2\",\"cut4_(3, 4]\":\"cut3\",\"cut4_(4, 5]\":\"cut4\"},inplace =True)\n",
    "X_test_encode.rename(columns = {\"cut4_(0, 2]\":\"cut1\",\"cut4_(2, 3]\":\"cut2\",\"cut4_(3, 4]\":\"cut3\",\"cut4_(4, 5]\":\"cut4\"},inplace =True)"
   ]
  },
  {
   "cell_type": "code",
   "execution_count": 187,
   "metadata": {},
   "outputs": [],
   "source": [
    "dtrain = xgb.DMatrix(X2_encode, label=y)"
   ]
  },
  {
   "cell_type": "code",
   "execution_count": 202,
   "metadata": {},
   "outputs": [],
   "source": [
    "# A parameter grid for XGBoost\n",
    "p_distr ={\n",
    "        \"objective\":['reg:logistic'],\n",
    "        \"booster\":[\"gbtree\"],\n",
    "        #'n_estimators': [300],\n",
    "        #'min_child_weight': [7],\n",
    "        #'gamma': [7],\n",
    "        'subsample': [0.7],\n",
    "        'colsample_bytree': [0.7],\n",
    "        #'max_depth': [3,4,5,6,7,8,9,10],\n",
    "        #'eta': [0.2],\n",
    "        #\"scale_pos_weight\":[5],\n",
    "        \"lambda\":[0.4],\n",
    "        #\"alpha\":[0.9]\n",
    "}\n",
    "\n",
    "est =  XGBClassifier()\n",
    "nbr_iter = 120\n",
    "\n",
    "random_params, random_score = hypertuning_rscv(est, p_distr, nbr_iter,X2_encode,y)"
   ]
  },
  {
   "cell_type": "code",
   "execution_count": 70,
   "metadata": {},
   "outputs": [
    {
     "data": {
      "text/plain": [
       "{'subsample': 0.7,\n",
       " 'objective': 'reg:logistic',\n",
       " 'lambda': 0.4,\n",
       " 'colsample_bytree': 0.7,\n",
       " 'booster': 'gbtree'}"
      ]
     },
     "execution_count": 70,
     "metadata": {},
     "output_type": "execute_result"
    }
   ],
   "source": [
    "random_params"
   ]
  },
  {
   "cell_type": "code",
   "execution_count": 188,
   "metadata": {},
   "outputs": [
    {
     "name": "stdout",
     "output_type": "stream",
     "text": [
      "[15:29:20] WARNING: C:\\Users\\Administrator\\workspace\\xgboost-win64_release_1.1.0\\src\\learner.cc:480: \n",
      "Parameters: { bootstrap, class_weight, criterion, max_features, min_samples_leaf, min_samples_split, n_estimators } might not be used.\n",
      "\n",
      "  This may not be accurate due to some parameters are only used in language bindings but\n",
      "  passed down to XGBoost core.  Or some parameters are not used but slip through this\n",
      "  verification. Please open an issue if you find above cases.\n",
      "\n",
      "\n",
      "[15:29:20] WARNING: C:\\Users\\Administrator\\workspace\\xgboost-win64_release_1.1.0\\src\\learner.cc:480: \n",
      "Parameters: { bootstrap, class_weight, criterion, max_features, min_samples_leaf, min_samples_split, n_estimators } might not be used.\n",
      "\n",
      "  This may not be accurate due to some parameters are only used in language bindings but\n",
      "  passed down to XGBoost core.  Or some parameters are not used but slip through this\n",
      "  verification. Please open an issue if you find above cases.\n",
      "\n",
      "\n",
      "[15:29:20] WARNING: C:\\Users\\Administrator\\workspace\\xgboost-win64_release_1.1.0\\src\\learner.cc:480: \n",
      "Parameters: { bootstrap, class_weight, criterion, max_features, min_samples_leaf, min_samples_split, n_estimators } might not be used.\n",
      "\n",
      "  This may not be accurate due to some parameters are only used in language bindings but\n",
      "  passed down to XGBoost core.  Or some parameters are not used but slip through this\n",
      "  verification. Please open an issue if you find above cases.\n",
      "\n",
      "\n",
      "[15:29:21] WARNING: C:\\Users\\Administrator\\workspace\\xgboost-win64_release_1.1.0\\src\\learner.cc:480: \n",
      "Parameters: { bootstrap, class_weight, criterion, max_features, min_samples_leaf, min_samples_split, n_estimators } might not be used.\n",
      "\n",
      "  This may not be accurate due to some parameters are only used in language bindings but\n",
      "  passed down to XGBoost core.  Or some parameters are not used but slip through this\n",
      "  verification. Please open an issue if you find above cases.\n",
      "\n",
      "\n",
      "[15:29:21] WARNING: C:\\Users\\Administrator\\workspace\\xgboost-win64_release_1.1.0\\src\\learner.cc:480: \n",
      "Parameters: { bootstrap, class_weight, criterion, max_features, min_samples_leaf, min_samples_split, n_estimators } might not be used.\n",
      "\n",
      "  This may not be accurate due to some parameters are only used in language bindings but\n",
      "  passed down to XGBoost core.  Or some parameters are not used but slip through this\n",
      "  verification. Please open an issue if you find above cases.\n",
      "\n",
      "\n",
      "[15:29:21] WARNING: C:\\Users\\Administrator\\workspace\\xgboost-win64_release_1.1.0\\src\\learner.cc:480: \n",
      "Parameters: { bootstrap, class_weight, criterion, max_features, min_samples_leaf, min_samples_split, n_estimators } might not be used.\n",
      "\n",
      "  This may not be accurate due to some parameters are only used in language bindings but\n",
      "  passed down to XGBoost core.  Or some parameters are not used but slip through this\n",
      "  verification. Please open an issue if you find above cases.\n",
      "\n",
      "\n",
      "[15:29:21] WARNING: C:\\Users\\Administrator\\workspace\\xgboost-win64_release_1.1.0\\src\\learner.cc:480: \n",
      "Parameters: { bootstrap, class_weight, criterion, max_features, min_samples_leaf, min_samples_split, n_estimators } might not be used.\n",
      "\n",
      "  This may not be accurate due to some parameters are only used in language bindings but\n",
      "  passed down to XGBoost core.  Or some parameters are not used but slip through this\n",
      "  verification. Please open an issue if you find above cases.\n",
      "\n",
      "\n",
      "[15:29:21] WARNING: C:\\Users\\Administrator\\workspace\\xgboost-win64_release_1.1.0\\src\\learner.cc:480: \n",
      "Parameters: { bootstrap, class_weight, criterion, max_features, min_samples_leaf, min_samples_split, n_estimators } might not be used.\n",
      "\n",
      "  This may not be accurate due to some parameters are only used in language bindings but\n",
      "  passed down to XGBoost core.  Or some parameters are not used but slip through this\n",
      "  verification. Please open an issue if you find above cases.\n",
      "\n",
      "\n",
      "[15:29:21] WARNING: C:\\Users\\Administrator\\workspace\\xgboost-win64_release_1.1.0\\src\\learner.cc:480: \n",
      "Parameters: { bootstrap, class_weight, criterion, max_features, min_samples_leaf, min_samples_split, n_estimators } might not be used.\n",
      "\n",
      "  This may not be accurate due to some parameters are only used in language bindings but\n",
      "  passed down to XGBoost core.  Or some parameters are not used but slip through this\n",
      "  verification. Please open an issue if you find above cases.\n",
      "\n",
      "\n",
      "[15:29:21] WARNING: C:\\Users\\Administrator\\workspace\\xgboost-win64_release_1.1.0\\src\\learner.cc:480: \n",
      "Parameters: { bootstrap, class_weight, criterion, max_features, min_samples_leaf, min_samples_split, n_estimators } might not be used.\n",
      "\n",
      "  This may not be accurate due to some parameters are only used in language bindings but\n",
      "  passed down to XGBoost core.  Or some parameters are not used but slip through this\n",
      "  verification. Please open an issue if you find above cases.\n",
      "\n",
      "\n"
     ]
    }
   ],
   "source": [
    " cv_results = xgb.cv(dtrain= dtrain, params=random_params, nfold=10,num_boost_round=300,\n",
    "                     metrics='auc', early_stopping_rounds = 50,\n",
    "                        as_pandas=True, seed=123)"
   ]
  },
  {
   "cell_type": "code",
   "execution_count": 189,
   "metadata": {},
   "outputs": [
    {
     "data": {
      "text/html": [
       "<div>\n",
       "<style scoped>\n",
       "    .dataframe tbody tr th:only-of-type {\n",
       "        vertical-align: middle;\n",
       "    }\n",
       "\n",
       "    .dataframe tbody tr th {\n",
       "        vertical-align: top;\n",
       "    }\n",
       "\n",
       "    .dataframe thead th {\n",
       "        text-align: right;\n",
       "    }\n",
       "</style>\n",
       "<table border=\"1\" class=\"dataframe\">\n",
       "  <thead>\n",
       "    <tr style=\"text-align: right;\">\n",
       "      <th></th>\n",
       "      <th>train-auc-mean</th>\n",
       "      <th>train-auc-std</th>\n",
       "      <th>test-auc-mean</th>\n",
       "      <th>test-auc-std</th>\n",
       "    </tr>\n",
       "  </thead>\n",
       "  <tbody>\n",
       "    <tr>\n",
       "      <th>0</th>\n",
       "      <td>0.738000</td>\n",
       "      <td>0.009857</td>\n",
       "      <td>0.733703</td>\n",
       "      <td>0.012302</td>\n",
       "    </tr>\n",
       "    <tr>\n",
       "      <th>1</th>\n",
       "      <td>0.756530</td>\n",
       "      <td>0.002475</td>\n",
       "      <td>0.751421</td>\n",
       "      <td>0.009920</td>\n",
       "    </tr>\n",
       "    <tr>\n",
       "      <th>2</th>\n",
       "      <td>0.770740</td>\n",
       "      <td>0.002577</td>\n",
       "      <td>0.764712</td>\n",
       "      <td>0.007153</td>\n",
       "    </tr>\n",
       "    <tr>\n",
       "      <th>3</th>\n",
       "      <td>0.779473</td>\n",
       "      <td>0.002121</td>\n",
       "      <td>0.771080</td>\n",
       "      <td>0.006872</td>\n",
       "    </tr>\n",
       "    <tr>\n",
       "      <th>4</th>\n",
       "      <td>0.786726</td>\n",
       "      <td>0.002449</td>\n",
       "      <td>0.777465</td>\n",
       "      <td>0.007017</td>\n",
       "    </tr>\n",
       "    <tr>\n",
       "      <th>...</th>\n",
       "      <td>...</td>\n",
       "      <td>...</td>\n",
       "      <td>...</td>\n",
       "      <td>...</td>\n",
       "    </tr>\n",
       "    <tr>\n",
       "      <th>295</th>\n",
       "      <td>0.951457</td>\n",
       "      <td>0.000909</td>\n",
       "      <td>0.846751</td>\n",
       "      <td>0.007307</td>\n",
       "    </tr>\n",
       "    <tr>\n",
       "      <th>296</th>\n",
       "      <td>0.951626</td>\n",
       "      <td>0.000923</td>\n",
       "      <td>0.846760</td>\n",
       "      <td>0.007332</td>\n",
       "    </tr>\n",
       "    <tr>\n",
       "      <th>297</th>\n",
       "      <td>0.951789</td>\n",
       "      <td>0.000916</td>\n",
       "      <td>0.846744</td>\n",
       "      <td>0.007294</td>\n",
       "    </tr>\n",
       "    <tr>\n",
       "      <th>298</th>\n",
       "      <td>0.951917</td>\n",
       "      <td>0.000914</td>\n",
       "      <td>0.846713</td>\n",
       "      <td>0.007298</td>\n",
       "    </tr>\n",
       "    <tr>\n",
       "      <th>299</th>\n",
       "      <td>0.952087</td>\n",
       "      <td>0.000897</td>\n",
       "      <td>0.846658</td>\n",
       "      <td>0.007380</td>\n",
       "    </tr>\n",
       "  </tbody>\n",
       "</table>\n",
       "<p>300 rows × 4 columns</p>\n",
       "</div>"
      ],
      "text/plain": [
       "     train-auc-mean  train-auc-std  test-auc-mean  test-auc-std\n",
       "0          0.738000       0.009857       0.733703      0.012302\n",
       "1          0.756530       0.002475       0.751421      0.009920\n",
       "2          0.770740       0.002577       0.764712      0.007153\n",
       "3          0.779473       0.002121       0.771080      0.006872\n",
       "4          0.786726       0.002449       0.777465      0.007017\n",
       "..              ...            ...            ...           ...\n",
       "295        0.951457       0.000909       0.846751      0.007307\n",
       "296        0.951626       0.000923       0.846760      0.007332\n",
       "297        0.951789       0.000916       0.846744      0.007294\n",
       "298        0.951917       0.000914       0.846713      0.007298\n",
       "299        0.952087       0.000897       0.846658      0.007380\n",
       "\n",
       "[300 rows x 4 columns]"
      ]
     },
     "execution_count": 189,
     "metadata": {},
     "output_type": "execute_result"
    }
   ],
   "source": [
    "cv_results"
   ]
  },
  {
   "cell_type": "code",
   "execution_count": 22,
   "metadata": {},
   "outputs": [],
   "source": [
    "est =  XGBClassifier()"
   ]
  },
  {
   "cell_type": "markdown",
   "metadata": {},
   "source": [
    "## Test "
   ]
  },
  {
   "cell_type": "code",
   "execution_count": 195,
   "metadata": {},
   "outputs": [],
   "source": [
    "xg_reg = XGBClassifier(subsample = 0.7,\n",
    " objective = \"reg:logistic\",\n",
    " colsample_bytree = 0.7,\n",
    " booster = 'gbtree',num_boost_round=300)"
   ]
  },
  {
   "cell_type": "code",
   "execution_count": 196,
   "metadata": {},
   "outputs": [
    {
     "name": "stdout",
     "output_type": "stream",
     "text": [
      "[15:53:28] WARNING: C:\\Users\\Administrator\\workspace\\xgboost-win64_release_1.1.0\\src\\learner.cc:480: \n",
      "Parameters: { num_boost_round } might not be used.\n",
      "\n",
      "  This may not be accurate due to some parameters are only used in language bindings but\n",
      "  passed down to XGBoost core.  Or some parameters are not used but slip through this\n",
      "  verification. Please open an issue if you find above cases.\n",
      "\n",
      "\n"
     ]
    },
    {
     "data": {
      "text/plain": [
       "XGBClassifier(base_score=0.5, booster='gbtree', colsample_bylevel=1,\n",
       "              colsample_bynode=1, colsample_bytree=0.7, gamma=0, gpu_id=-1,\n",
       "              importance_type='gain', interaction_constraints='',\n",
       "              learning_rate=0.300000012, max_delta_step=0, max_depth=6,\n",
       "              min_child_weight=1, missing=nan, monotone_constraints='()',\n",
       "              n_estimators=100, n_jobs=0, num_boost_round=300,\n",
       "              num_parallel_tree=1, objective='reg:logistic', random_state=0,\n",
       "              reg_alpha=0, reg_lambda=1, scale_pos_weight=1, subsample=0.7,\n",
       "              tree_method='exact', validate_parameters=1, verbosity=None)"
      ]
     },
     "execution_count": 196,
     "metadata": {},
     "output_type": "execute_result"
    }
   ],
   "source": [
    "xg_reg.fit(X2_encode,y)"
   ]
  },
  {
   "cell_type": "code",
   "execution_count": 197,
   "metadata": {},
   "outputs": [],
   "source": [
    "preds = xg_reg.predict_proba(X_test_encode)"
   ]
  },
  {
   "cell_type": "code",
   "execution_count": 198,
   "metadata": {},
   "outputs": [],
   "source": [
    "test[\"ID\"] = test.index +1"
   ]
  },
  {
   "cell_type": "code",
   "execution_count": 199,
   "metadata": {},
   "outputs": [],
   "source": [
    "ctbsubmission = pd.concat([pd.DataFrame(preds[:,1]),test['ID']],axis=1)\n",
    "ctbsubmission.columns = ['Delay.Indicator','ID']"
   ]
  },
  {
   "cell_type": "code",
   "execution_count": 200,
   "metadata": {},
   "outputs": [
    {
     "data": {
      "text/html": [
       "<div>\n",
       "<style scoped>\n",
       "    .dataframe tbody tr th:only-of-type {\n",
       "        vertical-align: middle;\n",
       "    }\n",
       "\n",
       "    .dataframe tbody tr th {\n",
       "        vertical-align: top;\n",
       "    }\n",
       "\n",
       "    .dataframe thead th {\n",
       "        text-align: right;\n",
       "    }\n",
       "</style>\n",
       "<table border=\"1\" class=\"dataframe\">\n",
       "  <thead>\n",
       "    <tr style=\"text-align: right;\">\n",
       "      <th></th>\n",
       "      <th>Delay.Indicator</th>\n",
       "      <th>ID</th>\n",
       "    </tr>\n",
       "  </thead>\n",
       "  <tbody>\n",
       "    <tr>\n",
       "      <th>0</th>\n",
       "      <td>0.016838</td>\n",
       "      <td>1</td>\n",
       "    </tr>\n",
       "    <tr>\n",
       "      <th>1</th>\n",
       "      <td>0.005968</td>\n",
       "      <td>2</td>\n",
       "    </tr>\n",
       "    <tr>\n",
       "      <th>2</th>\n",
       "      <td>0.002639</td>\n",
       "      <td>3</td>\n",
       "    </tr>\n",
       "    <tr>\n",
       "      <th>3</th>\n",
       "      <td>0.005356</td>\n",
       "      <td>4</td>\n",
       "    </tr>\n",
       "    <tr>\n",
       "      <th>4</th>\n",
       "      <td>0.004510</td>\n",
       "      <td>5</td>\n",
       "    </tr>\n",
       "    <tr>\n",
       "      <th>...</th>\n",
       "      <td>...</td>\n",
       "      <td>...</td>\n",
       "    </tr>\n",
       "    <tr>\n",
       "      <th>12371</th>\n",
       "      <td>0.119778</td>\n",
       "      <td>12372</td>\n",
       "    </tr>\n",
       "    <tr>\n",
       "      <th>12372</th>\n",
       "      <td>0.316162</td>\n",
       "      <td>12373</td>\n",
       "    </tr>\n",
       "    <tr>\n",
       "      <th>12373</th>\n",
       "      <td>0.434904</td>\n",
       "      <td>12374</td>\n",
       "    </tr>\n",
       "    <tr>\n",
       "      <th>12374</th>\n",
       "      <td>0.080282</td>\n",
       "      <td>12375</td>\n",
       "    </tr>\n",
       "    <tr>\n",
       "      <th>12375</th>\n",
       "      <td>0.193461</td>\n",
       "      <td>12376</td>\n",
       "    </tr>\n",
       "  </tbody>\n",
       "</table>\n",
       "<p>12376 rows × 2 columns</p>\n",
       "</div>"
      ],
      "text/plain": [
       "       Delay.Indicator     ID\n",
       "0             0.016838      1\n",
       "1             0.005968      2\n",
       "2             0.002639      3\n",
       "3             0.005356      4\n",
       "4             0.004510      5\n",
       "...                ...    ...\n",
       "12371         0.119778  12372\n",
       "12372         0.316162  12373\n",
       "12373         0.434904  12374\n",
       "12374         0.080282  12375\n",
       "12375         0.193461  12376\n",
       "\n",
       "[12376 rows x 2 columns]"
      ]
     },
     "execution_count": 200,
     "metadata": {},
     "output_type": "execute_result"
    }
   ],
   "source": [
    "ctbsubmission"
   ]
  },
  {
   "cell_type": "code",
   "execution_count": 201,
   "metadata": {},
   "outputs": [],
   "source": [
    "ctbsubmission.to_csv('xgb_logistic_predictions_2.csv',index=False)"
   ]
  },
  {
   "cell_type": "code",
   "execution_count": 107,
   "metadata": {},
   "outputs": [
    {
     "data": {
      "text/plain": [
       "0.072874    2\n",
       "0.064088    2\n",
       "0.001841    2\n",
       "0.076633    2\n",
       "0.069706    2\n",
       "           ..\n",
       "0.004682    1\n",
       "0.301621    1\n",
       "0.091147    1\n",
       "0.018880    1\n",
       "0.005249    1\n",
       "Name: Delay.Indicator, Length: 12208, dtype: int64"
      ]
     },
     "execution_count": 107,
     "metadata": {},
     "output_type": "execute_result"
    }
   ],
   "source": [
    "ctbsubmission[\"Delay.Indicator\"].value_counts()"
   ]
  },
  {
   "cell_type": "markdown",
   "metadata": {},
   "source": [
    "## LightGBM"
   ]
  },
  {
   "cell_type": "code",
   "execution_count": 373,
   "metadata": {},
   "outputs": [],
   "source": [
    "X2[\"Round_Hour\"] = X2[\"Round_Hour\"].astype('category')"
   ]
  },
  {
   "cell_type": "code",
   "execution_count": 395,
   "metadata": {},
   "outputs": [
    {
     "name": "stdout",
     "output_type": "stream",
     "text": [
      "[100]\tcv_agg's train auc: 0.789679 + 0.000814879\tcv_agg's valid auc: 0.782431 + 0.0066354\n",
      "[200]\tcv_agg's train auc: 0.801386 + 0.000638589\tcv_agg's valid auc: 0.792902 + 0.00655273\n",
      "[300]\tcv_agg's train auc: 0.812434 + 0.000816405\tcv_agg's valid auc: 0.802217 + 0.00590343\n",
      "[400]\tcv_agg's train auc: 0.823671 + 0.000943514\tcv_agg's valid auc: 0.811534 + 0.0051792\n",
      "[500]\tcv_agg's train auc: 0.832589 + 0.0011072\tcv_agg's valid auc: 0.818514 + 0.00470185\n",
      "[600]\tcv_agg's train auc: 0.841104 + 0.00119141\tcv_agg's valid auc: 0.825065 + 0.0045277\n",
      "[700]\tcv_agg's train auc: 0.848504 + 0.00109121\tcv_agg's valid auc: 0.83064 + 0.00435385\n",
      "[800]\tcv_agg's train auc: 0.854919 + 0.000882007\tcv_agg's valid auc: 0.835295 + 0.00440489\n",
      "[900]\tcv_agg's train auc: 0.860224 + 0.000776781\tcv_agg's valid auc: 0.83905 + 0.00450707\n",
      "[1000]\tcv_agg's train auc: 0.864786 + 0.000682995\tcv_agg's valid auc: 0.841996 + 0.0046066\n"
     ]
    }
   ],
   "source": [
    "dtrain = lgb.Dataset(X2,y)\n",
    "\n",
    "params = {\n",
    "    'boosting_type':'gbdt',\n",
    "    'learning_rate': 0.01,\n",
    "    'max_depth': 5,\n",
    "    'num_leaves': 40, \n",
    "    'objective':'binary',\n",
    "    'class_weight':'balanced',\n",
    "    'feature_fraction': 0.75,\n",
    "    'bagging_fraction': 0.75,\n",
    "    'max_bin': 100}\n",
    "\n",
    "# LightGBM, cross-validation\n",
    "cv_result_lgb = lgb.cv(params, \n",
    "                       dtrain, \n",
    "                       num_boost_round=1000, \n",
    "                       metrics = \"auc\",\n",
    "                       nfold=10, \n",
    "                       stratified=True, \n",
    "                       early_stopping_rounds=50, \n",
    "                       verbose_eval=100, \n",
    "                       eval_train_metric =True)"
   ]
  },
  {
   "cell_type": "code",
   "execution_count": 425,
   "metadata": {},
   "outputs": [],
   "source": [
    "lgb_clf = lgb.LGBMClassifier(n_estimators=200, boosting_type = \"gbdt\",\n",
    "    learning_rate = 0.01,\n",
    "    max_depth = 5,\n",
    "    num_leaves = 40, \n",
    "    objective = 'binary',\n",
    "    class_weight = \"balanced\",\n",
    "    feature_fraction = 0.75,\n",
    "    bagging_fraction = 0.75,\n",
    "    max_bin = 100,metrics ='auc')\n",
    "lgb_clf.fit(X2_enc, y)\n",
    "preds = lgb_clf.predict_proba(X2_test_enc)"
   ]
  },
  {
   "cell_type": "code",
   "execution_count": 406,
   "metadata": {},
   "outputs": [],
   "source": [
    "X2_enc\n",
    "import re\n",
    "X2_enc = X2_enc.rename(columns = lambda x:re.sub('[^A-Za-z0-9_]+', '', x))"
   ]
  },
  {
   "cell_type": "code",
   "execution_count": 428,
   "metadata": {},
   "outputs": [
    {
     "data": {
      "text/plain": [
       "array([0.42294236, 0.13748757, 0.13705473, ..., 0.31954765, 0.20150389,\n",
       "       0.5732822 ])"
      ]
     },
     "execution_count": 428,
     "metadata": {},
     "output_type": "execute_result"
    }
   ],
   "source": [
    "preds[:,1]"
   ]
  },
  {
   "cell_type": "code",
   "execution_count": 427,
   "metadata": {},
   "outputs": [],
   "source": [
    "test[\"ID\"] = test.index +1\n",
    "ctbsubmission = pd.concat([pd.DataFrame(preds[:,1]),test['ID']],axis=1)\n",
    "ctbsubmission.columns = ['Delay.Indicator','ID']\n",
    "ctbsubmission.to_csv('lgt_predictions_1.csv',index=False)"
   ]
  },
  {
   "cell_type": "markdown",
   "metadata": {},
   "source": [
    "## Support vector machine"
   ]
  },
  {
   "cell_type": "code",
   "execution_count": 431,
   "metadata": {},
   "outputs": [],
   "source": [
    "from sklearn.svm import SVC\n",
    "svclassifier = SVC(kernel='linear')\n",
    "svclassifier.fit(X_train, y_train)"
   ]
  },
  {
   "cell_type": "code",
   "execution_count": 433,
   "metadata": {},
   "outputs": [],
   "source": [
    "acv_results = cross_validate(svclassifier, X2_enc, y, cv = 10,return_train_score =True)"
   ]
  },
  {
   "cell_type": "code",
   "execution_count": 434,
   "metadata": {},
   "outputs": [
    {
     "data": {
      "text/plain": [
       "{'fit_time': array([22649.269274  , 10399.8090055 , 21673.22888589,  6811.99339414,\n",
       "        39778.07141256,  7923.59264469, 12070.7809546 , 11497.37369609,\n",
       "        15605.28890753, 48036.19392228]),\n",
       " 'score_time': array([2.89868355, 3.73362684, 2.06549835, 2.35109138, 2.04566884,\n",
       "        1.91014409, 1.90039968, 1.97342229, 1.92709255, 2.09032583]),\n",
       " 'test_score': array([0.81842052, 0.81842052, 0.81842052, 0.81842052, 0.81858586,\n",
       "        0.81858586, 0.81838384, 0.81838384, 0.81838384, 0.81838384]),\n",
       " 'train_score': array([0.81844096, 0.81844096, 0.81844096, 0.81844096, 0.81842259,\n",
       "        0.81842259, 0.81844503, 0.81844503, 0.81844503, 0.81844503])}"
      ]
     },
     "execution_count": 434,
     "metadata": {},
     "output_type": "execute_result"
    }
   ],
   "source": [
    "cv_results"
   ]
  }
 ],
 "metadata": {
  "kernelspec": {
   "display_name": "Python 3",
   "language": "python",
   "name": "python3"
  },
  "language_info": {
   "codemirror_mode": {
    "name": "ipython",
    "version": 3
   },
   "file_extension": ".py",
   "mimetype": "text/x-python",
   "name": "python",
   "nbconvert_exporter": "python",
   "pygments_lexer": "ipython3",
   "version": "3.7.6"
  },
  "latex_envs": {
   "LaTeX_envs_menu_present": true,
   "autoclose": false,
   "autocomplete": true,
   "bibliofile": "biblio.bib",
   "cite_by": "apalike",
   "current_citInitial": 1,
   "eqLabelWithNumbers": true,
   "eqNumInitial": 1,
   "hotkeys": {
    "equation": "Ctrl-E",
    "itemize": "Ctrl-I"
   },
   "labels_anchors": false,
   "latex_user_defs": false,
   "report_style_numbering": false,
   "user_envs_cfg": false
  },
  "toc": {
   "base_numbering": 1,
   "nav_menu": {},
   "number_sections": true,
   "sideBar": true,
   "skip_h1_title": false,
   "title_cell": "Table of Contents",
   "title_sidebar": "Contents",
   "toc_cell": false,
   "toc_position": {},
   "toc_section_display": true,
   "toc_window_display": false
  }
 },
 "nbformat": 4,
 "nbformat_minor": 4
}
